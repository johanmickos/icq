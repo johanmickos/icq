{
 "cells": [
  {
   "cell_type": "code",
   "execution_count": 2,
   "id": "bf542f15",
   "metadata": {},
   "outputs": [],
   "source": [
    "from PIL import Image\n",
    "\n",
    "import numpy as np\n",
    "import matplotlib.pyplot as plt\n",
    "from skimage.color import rgb2lab\n",
    "\n",
    "from core import colors"
   ]
  },
  {
   "cell_type": "code",
   "execution_count": 58,
   "id": "48e03465",
   "metadata": {},
   "outputs": [],
   "source": [
    "src = '../favicon.ico'\n",
    "# src = 'latest.png'\n",
    "fmt = 'RGBA'"
   ]
  },
  {
   "cell_type": "code",
   "execution_count": 75,
   "id": "645819b0",
   "metadata": {},
   "outputs": [
    {
     "name": "stdout",
     "output_type": "stream",
     "text": [
      "15\n"
     ]
    },
    {
     "data": {
      "image/png": "[encoded data removed]",
      "text/plain": [
       "<PIL.Image.Image image mode=P size=32x32>"
      ]
     },
     "execution_count": 75,
     "metadata": {},
     "output_type": "execute_result"
    }
   ],
   "source": [
    "reduced = Image.open(src).convert(\"RGBA\").quantize(256)\n",
    "palette = reduced.getpalette(rawmode='RGBA') # get palette as [r,g,b,r,g,b,...]\n",
    "palette = [palette[4*n:4*n+4] for n in range(256)]\n",
    "\n",
    "color_count = [[n, np.array(palette[m][:3])] for n, m in reduced.getcolors() if palette[m][3] != 0]\n",
    "# color_count = [[n, np.array(palette[m][:3])] for n, m in reduced.getcolors() ]\n",
    "color_count = sorted(color_count, reverse=True, key=(lambda x: x[0]))\n",
    "colors = color_count\n",
    "\n",
    "# threshold = np.std([x[0] for x in colors[2:]]) * 0.05\n",
    "threshold = 15\n",
    "print(threshold)\n",
    "\n",
    "colors = sorted(filter(lambda x: x[0] > threshold, colors), reverse=True, key=(lambda x: x[0]))\n",
    "# print(colors)\n",
    "# colors = color_count\n",
    "\n",
    "dominant = []\n",
    "threshold_distance = 35\n",
    "\n",
    "\n",
    "for candidate in colors:\n",
    "    check = []\n",
    "    for selected in dominant:\n",
    "        dist = np.linalg.norm(rgb2lab(candidate[1]/255)-rgb2lab(selected[1]/255))\n",
    "        if dist < threshold_distance:\n",
    "            # 'selected' subsumes 'candidate'\n",
    "            selected[0] += candidate[0]\n",
    "        check.append(dist < threshold_distance)\n",
    "    if any(check):\n",
    "        continue\n",
    "    dominant.append(candidate)\n",
    "    if len(dominant) == 10:\n",
    "        break\n",
    "\n",
    "\n",
    "# Keep taking next color with these conditions:\n",
    "# - SKIP if distance from current to already selected is < threshold_distance\n",
    "# - BREAK if count(cur) < threshold_count\n",
    "#    - size * 0.1 maybe for 10% of the pixels\n",
    "\n",
    "# Dominant will work OK if we only select elements that are > threshold_distance from previous element\n",
    "reduced"
   ]
  },
  {
   "cell_type": "code",
   "execution_count": 76,
   "id": "15dcd58c",
   "metadata": {},
   "outputs": [
    {
     "name": "stdout",
     "output_type": "stream",
     "text": [
      "[[759, array([  0,  97, 253])], [143, array([251, 250, 241])]]\n"
     ]
    },
    {
     "data": {
      "image/png": "[encoded data removed]",
      "text/plain": [
       "<Figure size 640x480 with 1 Axes>"
      ]
     },
     "metadata": {},
     "output_type": "display_data"
    }
   ],
   "source": [
    "print(dominant)\n",
    "p = plt.bar(range(0, len(dominant)), [x[0] for x in dominant], log=True, edgecolor='black', color=[tuple(np.array(x[1])/255) for x in dominant])\n"
   ]
  },
  {
   "cell_type": "code",
   "execution_count": 74,
   "id": "03e0b6d9",
   "metadata": {},
   "outputs": [
    {
     "data": {
      "text/plain": [
       "b'<html><head><title>Microsoft Corporation</title><meta http-equiv=\"X-UA-Compatible\" content=\"IE=EmulateIE7\"></meta><meta http-equiv=\"Content-Type\" content=\"text/html; charset=utf-8\"></meta><meta name=\"SearchTitle\" content=\"Microsoft.com\" scheme=\"\"></meta><meta name=\"Description\" content=\"Get product information, support, and news from Microsoft.\" scheme=\"\"></meta><meta name=\"Title\" content=\"Microsoft.com Home Page\" scheme=\"\"></meta><meta name=\"Keywords\" content=\"Microsoft, product, support, help, training, Office, Windows, software, download, trial, preview, demo,  business, security, update, free, computer, PC, server, search, download, install, news\" scheme=\"\"></meta><meta name=\"SearchDescription\" content=\"Microsoft.com Homepage\" scheme=\"\"></meta></head><body><p>Your current User-Agent string appears to be from an automated process, if this is incorrect, please click this link:<a href=\"http://www.microsoft.com/en/us/default.aspx?redir=true\">United States English Microsoft Homepage</a></p></body></html>\\r\\n'"
      ]
     },
     "execution_count": 74,
     "metadata": {},
     "output_type": "execute_result"
    }
   ],
   "source": [
    "import requests\n",
    "url='https://www.microsoft.com/favicon.ico?v2'\n",
    "headers ={\n",
    "    'User-Agent': 'Mozilla/5.0 (Windows NT 10.0; Win64; x64; rv:109.0) Gecko/20100101 Firefox/114.0',\n",
    "    'Accept': 'text/html,application/xhtml+xml,application/xml;q=0.9,image/avif,image/webp,*/*;q=0.8',\n",
    "}\n",
    "response = requests.get(url, timeout=(2,2),headers=headers)\n",
    "resp.content"
   ]
  }
 ],
 "metadata": {
  "kernelspec": {
   "display_name": "Python 3 (ipykernel)",
   "language": "python",
   "name": "python3"
  },
  "language_info": {
   "codemirror_mode": {
    "name": "ipython",
    "version": 3
   },
   "file_extension": ".py",
   "mimetype": "text/x-python",
   "name": "python",
   "nbconvert_exporter": "python",
   "pygments_lexer": "ipython3",
   "version": "3.8.10"
  }
 },
 "nbformat": 4,
 "nbformat_minor": 5
}
